{
 "cells": [
  {
   "cell_type": "code",
   "execution_count": 1,
   "id": "44307120",
   "metadata": {},
   "outputs": [],
   "source": [
    "import numpy as np\n",
    "import pandas as pd\n",
    "import matplotlib.pyplot as plt\n",
    "import seaborn as sns"
   ]
  },
  {
   "cell_type": "code",
   "execution_count": 2,
   "id": "8df06b01",
   "metadata": {},
   "outputs": [],
   "source": [
    "df = pd.read_csv(r'C:\\Users\\Kshitij\\OneDrive\\Desktop\\Projects\\Inhouse Project\\Covid-19\\Prediction\\Mental Health of Pregnant Women Prediction\\Pregnancy_Data.csv')"
   ]
  },
  {
   "cell_type": "code",
   "execution_count": 3,
   "id": "4fa74ba6",
   "metadata": {},
   "outputs": [
    {
     "data": {
      "text/html": [
       "<div>\n",
       "<style scoped>\n",
       "    .dataframe tbody tr th:only-of-type {\n",
       "        vertical-align: middle;\n",
       "    }\n",
       "\n",
       "    .dataframe tbody tr th {\n",
       "        vertical-align: top;\n",
       "    }\n",
       "\n",
       "    .dataframe thead th {\n",
       "        text-align: right;\n",
       "    }\n",
       "</style>\n",
       "<table border=\"1\" class=\"dataframe\">\n",
       "  <thead>\n",
       "    <tr style=\"text-align: right;\">\n",
       "      <th></th>\n",
       "      <th>OSF_ID</th>\n",
       "      <th>Maternal_Age</th>\n",
       "      <th>Household_Income (in $)</th>\n",
       "      <th>Maternal_Education</th>\n",
       "      <th>Edinburgh_Postnatal_Depression_Scale</th>\n",
       "      <th>PROMIS_Anxiety</th>\n",
       "      <th>Gestational_Age_At_Birth</th>\n",
       "      <th>Delivery_Date(converted to month and year)</th>\n",
       "      <th>Birth_Length</th>\n",
       "      <th>Birth_Weight</th>\n",
       "      <th>Delivery_Mode</th>\n",
       "      <th>NICU_Stay</th>\n",
       "      <th>Language</th>\n",
       "      <th>Threaten_Life</th>\n",
       "      <th>Threaten_Baby_Danger</th>\n",
       "      <th>Threaten_Baby_Harm</th>\n",
       "    </tr>\n",
       "  </thead>\n",
       "  <tbody>\n",
       "    <tr>\n",
       "      <th>0</th>\n",
       "      <td>3</td>\n",
       "      <td>34.3</td>\n",
       "      <td>125000</td>\n",
       "      <td>Undergraduate degree</td>\n",
       "      <td>NaN</td>\n",
       "      <td>NaN</td>\n",
       "      <td>NaN</td>\n",
       "      <td>NaN</td>\n",
       "      <td>NaN</td>\n",
       "      <td>NaN</td>\n",
       "      <td>NaN</td>\n",
       "      <td>NaN</td>\n",
       "      <td>French</td>\n",
       "      <td>0</td>\n",
       "      <td>0</td>\n",
       "      <td>0</td>\n",
       "    </tr>\n",
       "    <tr>\n",
       "      <th>1</th>\n",
       "      <td>4</td>\n",
       "      <td>28.8</td>\n",
       "      <td>125000</td>\n",
       "      <td>Masters degree</td>\n",
       "      <td>9.0</td>\n",
       "      <td>20.0</td>\n",
       "      <td>38.57</td>\n",
       "      <td>Dec-20</td>\n",
       "      <td>41.00</td>\n",
       "      <td>2534.0</td>\n",
       "      <td>Vaginally</td>\n",
       "      <td>No</td>\n",
       "      <td>French</td>\n",
       "      <td>53</td>\n",
       "      <td>67</td>\n",
       "      <td>54</td>\n",
       "    </tr>\n",
       "    <tr>\n",
       "      <th>2</th>\n",
       "      <td>9</td>\n",
       "      <td>33.1</td>\n",
       "      <td>125000</td>\n",
       "      <td>College/trade school</td>\n",
       "      <td>1.0</td>\n",
       "      <td>7.0</td>\n",
       "      <td>40.86</td>\n",
       "      <td>Nov-20</td>\n",
       "      <td>55.88</td>\n",
       "      <td>4480.0</td>\n",
       "      <td>Vaginally</td>\n",
       "      <td>No</td>\n",
       "      <td>English</td>\n",
       "      <td>27</td>\n",
       "      <td>76</td>\n",
       "      <td>72</td>\n",
       "    </tr>\n",
       "    <tr>\n",
       "      <th>3</th>\n",
       "      <td>17</td>\n",
       "      <td>31.0</td>\n",
       "      <td>125000</td>\n",
       "      <td>College/trade school</td>\n",
       "      <td>16.0</td>\n",
       "      <td>26.0</td>\n",
       "      <td>NaN</td>\n",
       "      <td>NaN</td>\n",
       "      <td>NaN</td>\n",
       "      <td>NaN</td>\n",
       "      <td>NaN</td>\n",
       "      <td>NaN</td>\n",
       "      <td>French</td>\n",
       "      <td>73</td>\n",
       "      <td>74</td>\n",
       "      <td>97</td>\n",
       "    </tr>\n",
       "    <tr>\n",
       "      <th>4</th>\n",
       "      <td>25</td>\n",
       "      <td>28.0</td>\n",
       "      <td>125000</td>\n",
       "      <td>Undergraduate degree</td>\n",
       "      <td>6.0</td>\n",
       "      <td>NaN</td>\n",
       "      <td>NaN</td>\n",
       "      <td>NaN</td>\n",
       "      <td>NaN</td>\n",
       "      <td>NaN</td>\n",
       "      <td>NaN</td>\n",
       "      <td>NaN</td>\n",
       "      <td>English</td>\n",
       "      <td>43</td>\n",
       "      <td>60</td>\n",
       "      <td>68</td>\n",
       "    </tr>\n",
       "  </tbody>\n",
       "</table>\n",
       "</div>"
      ],
      "text/plain": [
       "   OSF_ID  Maternal_Age  Household_Income (in $)    Maternal_Education  \\\n",
       "0       3          34.3                   125000  Undergraduate degree   \n",
       "1       4          28.8                   125000        Masters degree   \n",
       "2       9          33.1                   125000  College/trade school   \n",
       "3      17          31.0                   125000  College/trade school   \n",
       "4      25          28.0                   125000  Undergraduate degree   \n",
       "\n",
       "   Edinburgh_Postnatal_Depression_Scale  PROMIS_Anxiety  \\\n",
       "0                                   NaN             NaN   \n",
       "1                                   9.0            20.0   \n",
       "2                                   1.0             7.0   \n",
       "3                                  16.0            26.0   \n",
       "4                                   6.0             NaN   \n",
       "\n",
       "   Gestational_Age_At_Birth Delivery_Date(converted to month and year)  \\\n",
       "0                       NaN                                        NaN   \n",
       "1                     38.57                                     Dec-20   \n",
       "2                     40.86                                     Nov-20   \n",
       "3                       NaN                                        NaN   \n",
       "4                       NaN                                        NaN   \n",
       "\n",
       "   Birth_Length  Birth_Weight Delivery_Mode NICU_Stay Language  Threaten_Life  \\\n",
       "0           NaN           NaN           NaN       NaN   French              0   \n",
       "1         41.00        2534.0     Vaginally        No   French             53   \n",
       "2         55.88        4480.0     Vaginally        No  English             27   \n",
       "3           NaN           NaN           NaN       NaN   French             73   \n",
       "4           NaN           NaN           NaN       NaN  English             43   \n",
       "\n",
       "   Threaten_Baby_Danger  Threaten_Baby_Harm  \n",
       "0                     0                   0  \n",
       "1                    67                  54  \n",
       "2                    76                  72  \n",
       "3                    74                  97  \n",
       "4                    60                  68  "
      ]
     },
     "execution_count": 3,
     "metadata": {},
     "output_type": "execute_result"
    }
   ],
   "source": [
    "df.head()"
   ]
  },
  {
   "cell_type": "code",
   "execution_count": 4,
   "id": "c3d1269b",
   "metadata": {},
   "outputs": [
    {
     "data": {
      "text/plain": [
       "OSF_ID                                           0\n",
       "Maternal_Age                                     0\n",
       "Household_Income (in $)                          0\n",
       "Maternal_Education                               0\n",
       "Edinburgh_Postnatal_Depression_Scale           974\n",
       "PROMIS_Anxiety                                1006\n",
       "Gestational_Age_At_Birth                      4002\n",
       "Delivery_Date(converted to month and year)    4003\n",
       "Birth_Length                                  5123\n",
       "Birth_Weight                                  4583\n",
       "Delivery_Mode                                 5067\n",
       "NICU_Stay                                     5070\n",
       "Language                                         0\n",
       "Threaten_Life                                    0\n",
       "Threaten_Baby_Danger                             0\n",
       "Threaten_Baby_Harm                               0\n",
       "dtype: int64"
      ]
     },
     "execution_count": 4,
     "metadata": {},
     "output_type": "execute_result"
    }
   ],
   "source": [
    "df.isnull().sum()"
   ]
  },
  {
   "cell_type": "code",
   "execution_count": 5,
   "id": "ef877e76",
   "metadata": {},
   "outputs": [],
   "source": [
    "df['Edinburgh_Postnatal_Depression_Scale'].fillna(value = round(df['Edinburgh_Postnatal_Depression_Scale'].mean()), inplace = True)"
   ]
  },
  {
   "cell_type": "code",
   "execution_count": 6,
   "id": "24b65c55",
   "metadata": {},
   "outputs": [
    {
     "data": {
      "text/plain": [
       "OSF_ID                                           0\n",
       "Maternal_Age                                     0\n",
       "Household_Income (in $)                          0\n",
       "Maternal_Education                               0\n",
       "Edinburgh_Postnatal_Depression_Scale             0\n",
       "PROMIS_Anxiety                                1006\n",
       "Gestational_Age_At_Birth                      4002\n",
       "Delivery_Date(converted to month and year)    4003\n",
       "Birth_Length                                  5123\n",
       "Birth_Weight                                  4583\n",
       "Delivery_Mode                                 5067\n",
       "NICU_Stay                                     5070\n",
       "Language                                         0\n",
       "Threaten_Life                                    0\n",
       "Threaten_Baby_Danger                             0\n",
       "Threaten_Baby_Harm                               0\n",
       "dtype: int64"
      ]
     },
     "execution_count": 6,
     "metadata": {},
     "output_type": "execute_result"
    }
   ],
   "source": [
    "df.isnull().sum()"
   ]
  },
  {
   "cell_type": "code",
   "execution_count": 7,
   "id": "d80f43a8",
   "metadata": {},
   "outputs": [],
   "source": [
    "df['PROMIS_Anxiety'].fillna(value = round(df['PROMIS_Anxiety'].mean()), inplace = True)"
   ]
  },
  {
   "cell_type": "code",
   "execution_count": 8,
   "id": "cc0e4186",
   "metadata": {},
   "outputs": [
    {
     "data": {
      "text/plain": [
       "OSF_ID                                           0\n",
       "Maternal_Age                                     0\n",
       "Household_Income (in $)                          0\n",
       "Maternal_Education                               0\n",
       "Edinburgh_Postnatal_Depression_Scale             0\n",
       "PROMIS_Anxiety                                   0\n",
       "Gestational_Age_At_Birth                      4002\n",
       "Delivery_Date(converted to month and year)    4003\n",
       "Birth_Length                                  5123\n",
       "Birth_Weight                                  4583\n",
       "Delivery_Mode                                 5067\n",
       "NICU_Stay                                     5070\n",
       "Language                                         0\n",
       "Threaten_Life                                    0\n",
       "Threaten_Baby_Danger                             0\n",
       "Threaten_Baby_Harm                               0\n",
       "dtype: int64"
      ]
     },
     "execution_count": 8,
     "metadata": {},
     "output_type": "execute_result"
    }
   ],
   "source": [
    "df.isnull().sum()"
   ]
  },
  {
   "cell_type": "code",
   "execution_count": 9,
   "id": "cc908fc9",
   "metadata": {},
   "outputs": [],
   "source": [
    "df['Gestational_Age_At_Birth'].fillna(value = df['Gestational_Age_At_Birth'].mean(), inplace = True)"
   ]
  },
  {
   "cell_type": "code",
   "execution_count": 10,
   "id": "3d9687da",
   "metadata": {},
   "outputs": [
    {
     "data": {
      "text/plain": [
       "OSF_ID                                           0\n",
       "Maternal_Age                                     0\n",
       "Household_Income (in $)                          0\n",
       "Maternal_Education                               0\n",
       "Edinburgh_Postnatal_Depression_Scale             0\n",
       "PROMIS_Anxiety                                   0\n",
       "Gestational_Age_At_Birth                         0\n",
       "Delivery_Date(converted to month and year)    4003\n",
       "Birth_Length                                  5123\n",
       "Birth_Weight                                  4583\n",
       "Delivery_Mode                                 5067\n",
       "NICU_Stay                                     5070\n",
       "Language                                         0\n",
       "Threaten_Life                                    0\n",
       "Threaten_Baby_Danger                             0\n",
       "Threaten_Baby_Harm                               0\n",
       "dtype: int64"
      ]
     },
     "execution_count": 10,
     "metadata": {},
     "output_type": "execute_result"
    }
   ],
   "source": [
    "df.isnull().sum()"
   ]
  },
  {
   "cell_type": "code",
   "execution_count": 11,
   "id": "31425f80",
   "metadata": {},
   "outputs": [],
   "source": [
    "df['Birth_Length'].fillna(value = df['Birth_Length'].mean(), inplace = True)"
   ]
  },
  {
   "cell_type": "code",
   "execution_count": 12,
   "id": "bff3576f",
   "metadata": {},
   "outputs": [
    {
     "data": {
      "text/plain": [
       "OSF_ID                                           0\n",
       "Maternal_Age                                     0\n",
       "Household_Income (in $)                          0\n",
       "Maternal_Education                               0\n",
       "Edinburgh_Postnatal_Depression_Scale             0\n",
       "PROMIS_Anxiety                                   0\n",
       "Gestational_Age_At_Birth                         0\n",
       "Delivery_Date(converted to month and year)    4003\n",
       "Birth_Length                                     0\n",
       "Birth_Weight                                  4583\n",
       "Delivery_Mode                                 5067\n",
       "NICU_Stay                                     5070\n",
       "Language                                         0\n",
       "Threaten_Life                                    0\n",
       "Threaten_Baby_Danger                             0\n",
       "Threaten_Baby_Harm                               0\n",
       "dtype: int64"
      ]
     },
     "execution_count": 12,
     "metadata": {},
     "output_type": "execute_result"
    }
   ],
   "source": [
    "df.isnull().sum()"
   ]
  },
  {
   "cell_type": "code",
   "execution_count": 13,
   "id": "38fc93b2",
   "metadata": {},
   "outputs": [],
   "source": [
    "df['Birth_Weight'].fillna(value = df['Birth_Weight'].mean(), inplace = True)"
   ]
  },
  {
   "cell_type": "code",
   "execution_count": 14,
   "id": "75442ceb",
   "metadata": {},
   "outputs": [
    {
     "data": {
      "text/plain": [
       "OSF_ID                                           0\n",
       "Maternal_Age                                     0\n",
       "Household_Income (in $)                          0\n",
       "Maternal_Education                               0\n",
       "Edinburgh_Postnatal_Depression_Scale             0\n",
       "PROMIS_Anxiety                                   0\n",
       "Gestational_Age_At_Birth                         0\n",
       "Delivery_Date(converted to month and year)    4003\n",
       "Birth_Length                                     0\n",
       "Birth_Weight                                     0\n",
       "Delivery_Mode                                 5067\n",
       "NICU_Stay                                     5070\n",
       "Language                                         0\n",
       "Threaten_Life                                    0\n",
       "Threaten_Baby_Danger                             0\n",
       "Threaten_Baby_Harm                               0\n",
       "dtype: int64"
      ]
     },
     "execution_count": 14,
     "metadata": {},
     "output_type": "execute_result"
    }
   ],
   "source": [
    "df.isnull().sum()"
   ]
  },
  {
   "cell_type": "code",
   "execution_count": 15,
   "id": "c20147e5",
   "metadata": {},
   "outputs": [],
   "source": [
    "col = ['Delivery_Date(converted to month and year)', 'Delivery_Mode', 'NICU_Stay']\n",
    "for i in col:\n",
    "    df[i].fillna(method = 'ffill', inplace = True)"
   ]
  },
  {
   "cell_type": "code",
   "execution_count": 16,
   "id": "095df367",
   "metadata": {},
   "outputs": [
    {
     "data": {
      "text/plain": [
       "OSF_ID                                        0\n",
       "Maternal_Age                                  0\n",
       "Household_Income (in $)                       0\n",
       "Maternal_Education                            0\n",
       "Edinburgh_Postnatal_Depression_Scale          0\n",
       "PROMIS_Anxiety                                0\n",
       "Gestational_Age_At_Birth                      0\n",
       "Delivery_Date(converted to month and year)    1\n",
       "Birth_Length                                  0\n",
       "Birth_Weight                                  0\n",
       "Delivery_Mode                                 1\n",
       "NICU_Stay                                     1\n",
       "Language                                      0\n",
       "Threaten_Life                                 0\n",
       "Threaten_Baby_Danger                          0\n",
       "Threaten_Baby_Harm                            0\n",
       "dtype: int64"
      ]
     },
     "execution_count": 16,
     "metadata": {},
     "output_type": "execute_result"
    }
   ],
   "source": [
    "df.isnull().sum()"
   ]
  },
  {
   "cell_type": "code",
   "execution_count": 17,
   "id": "5618aced",
   "metadata": {},
   "outputs": [],
   "source": [
    "col = ['Delivery_Date(converted to month and year)', 'Delivery_Mode', 'NICU_Stay']\n",
    "for i in col:\n",
    "    df[i].fillna(method = 'bfill', inplace = True)"
   ]
  },
  {
   "cell_type": "code",
   "execution_count": 18,
   "id": "7f15d318",
   "metadata": {},
   "outputs": [
    {
     "data": {
      "text/plain": [
       "OSF_ID                                        0\n",
       "Maternal_Age                                  0\n",
       "Household_Income (in $)                       0\n",
       "Maternal_Education                            0\n",
       "Edinburgh_Postnatal_Depression_Scale          0\n",
       "PROMIS_Anxiety                                0\n",
       "Gestational_Age_At_Birth                      0\n",
       "Delivery_Date(converted to month and year)    0\n",
       "Birth_Length                                  0\n",
       "Birth_Weight                                  0\n",
       "Delivery_Mode                                 0\n",
       "NICU_Stay                                     0\n",
       "Language                                      0\n",
       "Threaten_Life                                 0\n",
       "Threaten_Baby_Danger                          0\n",
       "Threaten_Baby_Harm                            0\n",
       "dtype: int64"
      ]
     },
     "execution_count": 18,
     "metadata": {},
     "output_type": "execute_result"
    }
   ],
   "source": [
    "df.isnull().sum()"
   ]
  },
  {
   "cell_type": "code",
   "execution_count": 19,
   "id": "3d2f3fb4",
   "metadata": {},
   "outputs": [],
   "source": [
    "df.drop(columns=['OSF_ID', 'Maternal_Education', 'Delivery_Date(converted to month and year)', 'Language'], inplace=True)"
   ]
  },
  {
   "cell_type": "code",
   "execution_count": 20,
   "id": "d7284d4b",
   "metadata": {},
   "outputs": [
    {
     "data": {
      "text/html": [
       "<div>\n",
       "<style scoped>\n",
       "    .dataframe tbody tr th:only-of-type {\n",
       "        vertical-align: middle;\n",
       "    }\n",
       "\n",
       "    .dataframe tbody tr th {\n",
       "        vertical-align: top;\n",
       "    }\n",
       "\n",
       "    .dataframe thead th {\n",
       "        text-align: right;\n",
       "    }\n",
       "</style>\n",
       "<table border=\"1\" class=\"dataframe\">\n",
       "  <thead>\n",
       "    <tr style=\"text-align: right;\">\n",
       "      <th></th>\n",
       "      <th>Maternal_Age</th>\n",
       "      <th>Household_Income (in $)</th>\n",
       "      <th>Edinburgh_Postnatal_Depression_Scale</th>\n",
       "      <th>PROMIS_Anxiety</th>\n",
       "      <th>Gestational_Age_At_Birth</th>\n",
       "      <th>Birth_Length</th>\n",
       "      <th>Birth_Weight</th>\n",
       "      <th>Delivery_Mode</th>\n",
       "      <th>NICU_Stay</th>\n",
       "      <th>Threaten_Life</th>\n",
       "      <th>Threaten_Baby_Danger</th>\n",
       "      <th>Threaten_Baby_Harm</th>\n",
       "    </tr>\n",
       "  </thead>\n",
       "  <tbody>\n",
       "    <tr>\n",
       "      <th>0</th>\n",
       "      <td>34.3</td>\n",
       "      <td>125000</td>\n",
       "      <td>10.0</td>\n",
       "      <td>19.0</td>\n",
       "      <td>39.346234</td>\n",
       "      <td>50.510401</td>\n",
       "      <td>3412.115514</td>\n",
       "      <td>Vaginally</td>\n",
       "      <td>No</td>\n",
       "      <td>0</td>\n",
       "      <td>0</td>\n",
       "      <td>0</td>\n",
       "    </tr>\n",
       "    <tr>\n",
       "      <th>1</th>\n",
       "      <td>28.8</td>\n",
       "      <td>125000</td>\n",
       "      <td>9.0</td>\n",
       "      <td>20.0</td>\n",
       "      <td>38.570000</td>\n",
       "      <td>41.000000</td>\n",
       "      <td>2534.000000</td>\n",
       "      <td>Vaginally</td>\n",
       "      <td>No</td>\n",
       "      <td>53</td>\n",
       "      <td>67</td>\n",
       "      <td>54</td>\n",
       "    </tr>\n",
       "    <tr>\n",
       "      <th>2</th>\n",
       "      <td>33.1</td>\n",
       "      <td>125000</td>\n",
       "      <td>1.0</td>\n",
       "      <td>7.0</td>\n",
       "      <td>40.860000</td>\n",
       "      <td>55.880000</td>\n",
       "      <td>4480.000000</td>\n",
       "      <td>Vaginally</td>\n",
       "      <td>No</td>\n",
       "      <td>27</td>\n",
       "      <td>76</td>\n",
       "      <td>72</td>\n",
       "    </tr>\n",
       "    <tr>\n",
       "      <th>3</th>\n",
       "      <td>31.0</td>\n",
       "      <td>125000</td>\n",
       "      <td>16.0</td>\n",
       "      <td>26.0</td>\n",
       "      <td>39.346234</td>\n",
       "      <td>50.510401</td>\n",
       "      <td>3412.115514</td>\n",
       "      <td>Vaginally</td>\n",
       "      <td>No</td>\n",
       "      <td>73</td>\n",
       "      <td>74</td>\n",
       "      <td>97</td>\n",
       "    </tr>\n",
       "    <tr>\n",
       "      <th>4</th>\n",
       "      <td>28.0</td>\n",
       "      <td>125000</td>\n",
       "      <td>6.0</td>\n",
       "      <td>19.0</td>\n",
       "      <td>39.346234</td>\n",
       "      <td>50.510401</td>\n",
       "      <td>3412.115514</td>\n",
       "      <td>Vaginally</td>\n",
       "      <td>No</td>\n",
       "      <td>43</td>\n",
       "      <td>60</td>\n",
       "      <td>68</td>\n",
       "    </tr>\n",
       "  </tbody>\n",
       "</table>\n",
       "</div>"
      ],
      "text/plain": [
       "   Maternal_Age  Household_Income (in $)  \\\n",
       "0          34.3                   125000   \n",
       "1          28.8                   125000   \n",
       "2          33.1                   125000   \n",
       "3          31.0                   125000   \n",
       "4          28.0                   125000   \n",
       "\n",
       "   Edinburgh_Postnatal_Depression_Scale  PROMIS_Anxiety  \\\n",
       "0                                  10.0            19.0   \n",
       "1                                   9.0            20.0   \n",
       "2                                   1.0             7.0   \n",
       "3                                  16.0            26.0   \n",
       "4                                   6.0            19.0   \n",
       "\n",
       "   Gestational_Age_At_Birth  Birth_Length  Birth_Weight Delivery_Mode  \\\n",
       "0                 39.346234     50.510401   3412.115514     Vaginally   \n",
       "1                 38.570000     41.000000   2534.000000     Vaginally   \n",
       "2                 40.860000     55.880000   4480.000000     Vaginally   \n",
       "3                 39.346234     50.510401   3412.115514     Vaginally   \n",
       "4                 39.346234     50.510401   3412.115514     Vaginally   \n",
       "\n",
       "  NICU_Stay  Threaten_Life  Threaten_Baby_Danger  Threaten_Baby_Harm  \n",
       "0        No              0                     0                   0  \n",
       "1        No             53                    67                  54  \n",
       "2        No             27                    76                  72  \n",
       "3        No             73                    74                  97  \n",
       "4        No             43                    60                  68  "
      ]
     },
     "execution_count": 20,
     "metadata": {},
     "output_type": "execute_result"
    }
   ],
   "source": [
    "df.head()"
   ]
  },
  {
   "cell_type": "code",
   "execution_count": 21,
   "id": "d6da6671",
   "metadata": {},
   "outputs": [],
   "source": [
    "replace_map1 = { 'Caesarean-section (c-section)': 1, 'Vaginally': 0, 'Caesarean-section (c-section)': 1}\n",
    "df['Delivery_Mode'] = df['Delivery_Mode'].replace(replace_map1)"
   ]
  },
  {
   "cell_type": "code",
   "execution_count": 22,
   "id": "431446a8",
   "metadata": {},
   "outputs": [],
   "source": [
    "replace_map2 = {'Yes': 1, 'No': 0}\n",
    "df['NICU_Stay'] = df['NICU_Stay'].replace(replace_map2)"
   ]
  },
  {
   "cell_type": "code",
   "execution_count": 34,
   "id": "3c57eb9f",
   "metadata": {},
   "outputs": [],
   "source": [
    "def encod(val):\n",
    "    if val == 0:\n",
    "        return 0\n",
    "    else:\n",
    "        return 1"
   ]
  },
  {
   "cell_type": "code",
   "execution_count": 35,
   "id": "f3df2e20",
   "metadata": {},
   "outputs": [],
   "source": [
    "cols = ('Threaten_Life', 'Threaten_Baby_Danger', 'Threaten_Baby_Harm')\n",
    "for i in cols:\n",
    "    df[i] = df[i].apply(lambda x: encod(x))"
   ]
  },
  {
   "cell_type": "code",
   "execution_count": 36,
   "id": "37d810a8",
   "metadata": {},
   "outputs": [
    {
     "data": {
      "text/html": [
       "<div>\n",
       "<style scoped>\n",
       "    .dataframe tbody tr th:only-of-type {\n",
       "        vertical-align: middle;\n",
       "    }\n",
       "\n",
       "    .dataframe tbody tr th {\n",
       "        vertical-align: top;\n",
       "    }\n",
       "\n",
       "    .dataframe thead th {\n",
       "        text-align: right;\n",
       "    }\n",
       "</style>\n",
       "<table border=\"1\" class=\"dataframe\">\n",
       "  <thead>\n",
       "    <tr style=\"text-align: right;\">\n",
       "      <th></th>\n",
       "      <th>Maternal_Age</th>\n",
       "      <th>Household_Income (in $)</th>\n",
       "      <th>Edinburgh_Postnatal_Depression_Scale</th>\n",
       "      <th>PROMIS_Anxiety</th>\n",
       "      <th>Gestational_Age_At_Birth</th>\n",
       "      <th>Birth_Length</th>\n",
       "      <th>Birth_Weight</th>\n",
       "      <th>Delivery_Mode</th>\n",
       "      <th>NICU_Stay</th>\n",
       "    </tr>\n",
       "  </thead>\n",
       "  <tbody>\n",
       "    <tr>\n",
       "      <th>0</th>\n",
       "      <td>34.3</td>\n",
       "      <td>125000</td>\n",
       "      <td>10.0</td>\n",
       "      <td>19.0</td>\n",
       "      <td>39.346234</td>\n",
       "      <td>50.510401</td>\n",
       "      <td>3412.115514</td>\n",
       "      <td>0</td>\n",
       "      <td>0</td>\n",
       "    </tr>\n",
       "    <tr>\n",
       "      <th>1</th>\n",
       "      <td>28.8</td>\n",
       "      <td>125000</td>\n",
       "      <td>9.0</td>\n",
       "      <td>20.0</td>\n",
       "      <td>38.570000</td>\n",
       "      <td>41.000000</td>\n",
       "      <td>2534.000000</td>\n",
       "      <td>0</td>\n",
       "      <td>0</td>\n",
       "    </tr>\n",
       "    <tr>\n",
       "      <th>2</th>\n",
       "      <td>33.1</td>\n",
       "      <td>125000</td>\n",
       "      <td>1.0</td>\n",
       "      <td>7.0</td>\n",
       "      <td>40.860000</td>\n",
       "      <td>55.880000</td>\n",
       "      <td>4480.000000</td>\n",
       "      <td>0</td>\n",
       "      <td>0</td>\n",
       "    </tr>\n",
       "    <tr>\n",
       "      <th>3</th>\n",
       "      <td>31.0</td>\n",
       "      <td>125000</td>\n",
       "      <td>16.0</td>\n",
       "      <td>26.0</td>\n",
       "      <td>39.346234</td>\n",
       "      <td>50.510401</td>\n",
       "      <td>3412.115514</td>\n",
       "      <td>0</td>\n",
       "      <td>0</td>\n",
       "    </tr>\n",
       "    <tr>\n",
       "      <th>4</th>\n",
       "      <td>28.0</td>\n",
       "      <td>125000</td>\n",
       "      <td>6.0</td>\n",
       "      <td>19.0</td>\n",
       "      <td>39.346234</td>\n",
       "      <td>50.510401</td>\n",
       "      <td>3412.115514</td>\n",
       "      <td>0</td>\n",
       "      <td>0</td>\n",
       "    </tr>\n",
       "  </tbody>\n",
       "</table>\n",
       "</div>"
      ],
      "text/plain": [
       "   Maternal_Age  Household_Income (in $)  \\\n",
       "0          34.3                   125000   \n",
       "1          28.8                   125000   \n",
       "2          33.1                   125000   \n",
       "3          31.0                   125000   \n",
       "4          28.0                   125000   \n",
       "\n",
       "   Edinburgh_Postnatal_Depression_Scale  PROMIS_Anxiety  \\\n",
       "0                                  10.0            19.0   \n",
       "1                                   9.0            20.0   \n",
       "2                                   1.0             7.0   \n",
       "3                                  16.0            26.0   \n",
       "4                                   6.0            19.0   \n",
       "\n",
       "   Gestational_Age_At_Birth  Birth_Length  Birth_Weight  Delivery_Mode  \\\n",
       "0                 39.346234     50.510401   3412.115514              0   \n",
       "1                 38.570000     41.000000   2534.000000              0   \n",
       "2                 40.860000     55.880000   4480.000000              0   \n",
       "3                 39.346234     50.510401   3412.115514              0   \n",
       "4                 39.346234     50.510401   3412.115514              0   \n",
       "\n",
       "   NICU_Stay  \n",
       "0          0  \n",
       "1          0  \n",
       "2          0  \n",
       "3          0  \n",
       "4          0  "
      ]
     },
     "execution_count": 36,
     "metadata": {},
     "output_type": "execute_result"
    }
   ],
   "source": [
    "X = df.drop(columns = ['Threaten_Life', 'Threaten_Baby_Danger', 'Threaten_Baby_Harm'], axis = 1)\n",
    "X.head()"
   ]
  },
  {
   "cell_type": "code",
   "execution_count": 37,
   "id": "6caa51c3",
   "metadata": {},
   "outputs": [],
   "source": [
    "y_life_threat = df['Threaten_Life']\n",
    "y_baby_danger = df['Threaten_Baby_Danger']\n",
    "y_baby_harm = df['Threaten_Baby_Harm']"
   ]
  },
  {
   "cell_type": "code",
   "execution_count": 40,
   "id": "5935a11f",
   "metadata": {},
   "outputs": [
    {
     "data": {
      "text/plain": [
       "0    0\n",
       "1    1\n",
       "2    1\n",
       "3    1\n",
       "4    1\n",
       "Name: Threaten_Baby_Harm, dtype: int64"
      ]
     },
     "execution_count": 40,
     "metadata": {},
     "output_type": "execute_result"
    }
   ],
   "source": [
    "y_life_threat.head()\n",
    "y_baby_danger.head()\n",
    "y_baby_harm.head()"
   ]
  },
  {
   "cell_type": "markdown",
   "id": "be073f12",
   "metadata": {},
   "source": [
    "### Threaten_Life as Target"
   ]
  },
  {
   "cell_type": "code",
   "execution_count": 177,
   "id": "ebec745e",
   "metadata": {},
   "outputs": [],
   "source": [
    "from sklearn.model_selection import train_test_split\n",
    "X_train, X_test, y_life_threat_train, y_life_threat_test = train_test_split(X, y_life_threat, test_size = 0.12, random_state = 42)"
   ]
  },
  {
   "cell_type": "code",
   "execution_count": 178,
   "id": "ae9495e7",
   "metadata": {},
   "outputs": [
    {
     "data": {
      "text/html": [
       "<style>#sk-container-id-25 {color: black;}#sk-container-id-25 pre{padding: 0;}#sk-container-id-25 div.sk-toggleable {background-color: white;}#sk-container-id-25 label.sk-toggleable__label {cursor: pointer;display: block;width: 100%;margin-bottom: 0;padding: 0.3em;box-sizing: border-box;text-align: center;}#sk-container-id-25 label.sk-toggleable__label-arrow:before {content: \"▸\";float: left;margin-right: 0.25em;color: #696969;}#sk-container-id-25 label.sk-toggleable__label-arrow:hover:before {color: black;}#sk-container-id-25 div.sk-estimator:hover label.sk-toggleable__label-arrow:before {color: black;}#sk-container-id-25 div.sk-toggleable__content {max-height: 0;max-width: 0;overflow: hidden;text-align: left;background-color: #f0f8ff;}#sk-container-id-25 div.sk-toggleable__content pre {margin: 0.2em;color: black;border-radius: 0.25em;background-color: #f0f8ff;}#sk-container-id-25 input.sk-toggleable__control:checked~div.sk-toggleable__content {max-height: 200px;max-width: 100%;overflow: auto;}#sk-container-id-25 input.sk-toggleable__control:checked~label.sk-toggleable__label-arrow:before {content: \"▾\";}#sk-container-id-25 div.sk-estimator input.sk-toggleable__control:checked~label.sk-toggleable__label {background-color: #d4ebff;}#sk-container-id-25 div.sk-label input.sk-toggleable__control:checked~label.sk-toggleable__label {background-color: #d4ebff;}#sk-container-id-25 input.sk-hidden--visually {border: 0;clip: rect(1px 1px 1px 1px);clip: rect(1px, 1px, 1px, 1px);height: 1px;margin: -1px;overflow: hidden;padding: 0;position: absolute;width: 1px;}#sk-container-id-25 div.sk-estimator {font-family: monospace;background-color: #f0f8ff;border: 1px dotted black;border-radius: 0.25em;box-sizing: border-box;margin-bottom: 0.5em;}#sk-container-id-25 div.sk-estimator:hover {background-color: #d4ebff;}#sk-container-id-25 div.sk-parallel-item::after {content: \"\";width: 100%;border-bottom: 1px solid gray;flex-grow: 1;}#sk-container-id-25 div.sk-label:hover label.sk-toggleable__label {background-color: #d4ebff;}#sk-container-id-25 div.sk-serial::before {content: \"\";position: absolute;border-left: 1px solid gray;box-sizing: border-box;top: 0;bottom: 0;left: 50%;z-index: 0;}#sk-container-id-25 div.sk-serial {display: flex;flex-direction: column;align-items: center;background-color: white;padding-right: 0.2em;padding-left: 0.2em;position: relative;}#sk-container-id-25 div.sk-item {position: relative;z-index: 1;}#sk-container-id-25 div.sk-parallel {display: flex;align-items: stretch;justify-content: center;background-color: white;position: relative;}#sk-container-id-25 div.sk-item::before, #sk-container-id-25 div.sk-parallel-item::before {content: \"\";position: absolute;border-left: 1px solid gray;box-sizing: border-box;top: 0;bottom: 0;left: 50%;z-index: -1;}#sk-container-id-25 div.sk-parallel-item {display: flex;flex-direction: column;z-index: 1;position: relative;background-color: white;}#sk-container-id-25 div.sk-parallel-item:first-child::after {align-self: flex-end;width: 50%;}#sk-container-id-25 div.sk-parallel-item:last-child::after {align-self: flex-start;width: 50%;}#sk-container-id-25 div.sk-parallel-item:only-child::after {width: 0;}#sk-container-id-25 div.sk-dashed-wrapped {border: 1px dashed gray;margin: 0 0.4em 0.5em 0.4em;box-sizing: border-box;padding-bottom: 0.4em;background-color: white;}#sk-container-id-25 div.sk-label label {font-family: monospace;font-weight: bold;display: inline-block;line-height: 1.2em;}#sk-container-id-25 div.sk-label-container {text-align: center;}#sk-container-id-25 div.sk-container {/* jupyter's `normalize.less` sets `[hidden] { display: none; }` but bootstrap.min.css set `[hidden] { display: none !important; }` so we also need the `!important` here to be able to override the default hidden behavior on the sphinx rendered scikit-learn.org. See: https://github.com/scikit-learn/scikit-learn/issues/21755 */display: inline-block !important;position: relative;}#sk-container-id-25 div.sk-text-repr-fallback {display: none;}</style><div id=\"sk-container-id-25\" class=\"sk-top-container\"><div class=\"sk-text-repr-fallback\"><pre>LogisticRegression()</pre><b>In a Jupyter environment, please rerun this cell to show the HTML representation or trust the notebook. <br />On GitHub, the HTML representation is unable to render, please try loading this page with nbviewer.org.</b></div><div class=\"sk-container\" hidden><div class=\"sk-item\"><div class=\"sk-estimator sk-toggleable\"><input class=\"sk-toggleable__control sk-hidden--visually\" id=\"sk-estimator-id-25\" type=\"checkbox\" checked><label for=\"sk-estimator-id-25\" class=\"sk-toggleable__label sk-toggleable__label-arrow\">LogisticRegression</label><div class=\"sk-toggleable__content\"><pre>LogisticRegression()</pre></div></div></div></div></div>"
      ],
      "text/plain": [
       "LogisticRegression()"
      ]
     },
     "execution_count": 178,
     "metadata": {},
     "output_type": "execute_result"
    }
   ],
   "source": [
    "from sklearn.linear_model import LogisticRegression\n",
    "model_tl = LogisticRegression()\n",
    "model_tl.fit(X_train, y_life_threat_train)"
   ]
  },
  {
   "cell_type": "code",
   "execution_count": 179,
   "id": "e26c8481",
   "metadata": {},
   "outputs": [],
   "source": [
    "pred_tl = model_tl.predict(X_test)"
   ]
  },
  {
   "cell_type": "code",
   "execution_count": 180,
   "id": "321f1f98",
   "metadata": {},
   "outputs": [],
   "source": [
    "from sklearn.metrics import accuracy_score\n",
    "accuracy_life_threat = accuracy_score(y_life_threat_test, pred_tl)"
   ]
  },
  {
   "cell_type": "code",
   "execution_count": 181,
   "id": "c4393427",
   "metadata": {},
   "outputs": [
    {
     "name": "stdout",
     "output_type": "stream",
     "text": [
      "Accuracy is : 89.22 %\n"
     ]
    }
   ],
   "source": [
    "print(\"Accuracy is :\",round(accuracy_life_threat * 100,2),\"%\")"
   ]
  },
  {
   "cell_type": "markdown",
   "id": "851054e8",
   "metadata": {},
   "source": [
    "### Threaten_Baby_Danger as Target"
   ]
  },
  {
   "cell_type": "code",
   "execution_count": 183,
   "id": "5fd4472a",
   "metadata": {},
   "outputs": [],
   "source": [
    "from sklearn.model_selection import train_test_split\n",
    "X_train, X_test, y_baby_danger_train, y_baby_danger_test = train_test_split(X, y_baby_danger, test_size = 0.37, random_state = 42)"
   ]
  },
  {
   "cell_type": "code",
   "execution_count": 184,
   "id": "1d9c8e01",
   "metadata": {},
   "outputs": [
    {
     "data": {
      "text/html": [
       "<style>#sk-container-id-26 {color: black;}#sk-container-id-26 pre{padding: 0;}#sk-container-id-26 div.sk-toggleable {background-color: white;}#sk-container-id-26 label.sk-toggleable__label {cursor: pointer;display: block;width: 100%;margin-bottom: 0;padding: 0.3em;box-sizing: border-box;text-align: center;}#sk-container-id-26 label.sk-toggleable__label-arrow:before {content: \"▸\";float: left;margin-right: 0.25em;color: #696969;}#sk-container-id-26 label.sk-toggleable__label-arrow:hover:before {color: black;}#sk-container-id-26 div.sk-estimator:hover label.sk-toggleable__label-arrow:before {color: black;}#sk-container-id-26 div.sk-toggleable__content {max-height: 0;max-width: 0;overflow: hidden;text-align: left;background-color: #f0f8ff;}#sk-container-id-26 div.sk-toggleable__content pre {margin: 0.2em;color: black;border-radius: 0.25em;background-color: #f0f8ff;}#sk-container-id-26 input.sk-toggleable__control:checked~div.sk-toggleable__content {max-height: 200px;max-width: 100%;overflow: auto;}#sk-container-id-26 input.sk-toggleable__control:checked~label.sk-toggleable__label-arrow:before {content: \"▾\";}#sk-container-id-26 div.sk-estimator input.sk-toggleable__control:checked~label.sk-toggleable__label {background-color: #d4ebff;}#sk-container-id-26 div.sk-label input.sk-toggleable__control:checked~label.sk-toggleable__label {background-color: #d4ebff;}#sk-container-id-26 input.sk-hidden--visually {border: 0;clip: rect(1px 1px 1px 1px);clip: rect(1px, 1px, 1px, 1px);height: 1px;margin: -1px;overflow: hidden;padding: 0;position: absolute;width: 1px;}#sk-container-id-26 div.sk-estimator {font-family: monospace;background-color: #f0f8ff;border: 1px dotted black;border-radius: 0.25em;box-sizing: border-box;margin-bottom: 0.5em;}#sk-container-id-26 div.sk-estimator:hover {background-color: #d4ebff;}#sk-container-id-26 div.sk-parallel-item::after {content: \"\";width: 100%;border-bottom: 1px solid gray;flex-grow: 1;}#sk-container-id-26 div.sk-label:hover label.sk-toggleable__label {background-color: #d4ebff;}#sk-container-id-26 div.sk-serial::before {content: \"\";position: absolute;border-left: 1px solid gray;box-sizing: border-box;top: 0;bottom: 0;left: 50%;z-index: 0;}#sk-container-id-26 div.sk-serial {display: flex;flex-direction: column;align-items: center;background-color: white;padding-right: 0.2em;padding-left: 0.2em;position: relative;}#sk-container-id-26 div.sk-item {position: relative;z-index: 1;}#sk-container-id-26 div.sk-parallel {display: flex;align-items: stretch;justify-content: center;background-color: white;position: relative;}#sk-container-id-26 div.sk-item::before, #sk-container-id-26 div.sk-parallel-item::before {content: \"\";position: absolute;border-left: 1px solid gray;box-sizing: border-box;top: 0;bottom: 0;left: 50%;z-index: -1;}#sk-container-id-26 div.sk-parallel-item {display: flex;flex-direction: column;z-index: 1;position: relative;background-color: white;}#sk-container-id-26 div.sk-parallel-item:first-child::after {align-self: flex-end;width: 50%;}#sk-container-id-26 div.sk-parallel-item:last-child::after {align-self: flex-start;width: 50%;}#sk-container-id-26 div.sk-parallel-item:only-child::after {width: 0;}#sk-container-id-26 div.sk-dashed-wrapped {border: 1px dashed gray;margin: 0 0.4em 0.5em 0.4em;box-sizing: border-box;padding-bottom: 0.4em;background-color: white;}#sk-container-id-26 div.sk-label label {font-family: monospace;font-weight: bold;display: inline-block;line-height: 1.2em;}#sk-container-id-26 div.sk-label-container {text-align: center;}#sk-container-id-26 div.sk-container {/* jupyter's `normalize.less` sets `[hidden] { display: none; }` but bootstrap.min.css set `[hidden] { display: none !important; }` so we also need the `!important` here to be able to override the default hidden behavior on the sphinx rendered scikit-learn.org. See: https://github.com/scikit-learn/scikit-learn/issues/21755 */display: inline-block !important;position: relative;}#sk-container-id-26 div.sk-text-repr-fallback {display: none;}</style><div id=\"sk-container-id-26\" class=\"sk-top-container\"><div class=\"sk-text-repr-fallback\"><pre>LogisticRegression()</pre><b>In a Jupyter environment, please rerun this cell to show the HTML representation or trust the notebook. <br />On GitHub, the HTML representation is unable to render, please try loading this page with nbviewer.org.</b></div><div class=\"sk-container\" hidden><div class=\"sk-item\"><div class=\"sk-estimator sk-toggleable\"><input class=\"sk-toggleable__control sk-hidden--visually\" id=\"sk-estimator-id-26\" type=\"checkbox\" checked><label for=\"sk-estimator-id-26\" class=\"sk-toggleable__label sk-toggleable__label-arrow\">LogisticRegression</label><div class=\"sk-toggleable__content\"><pre>LogisticRegression()</pre></div></div></div></div></div>"
      ],
      "text/plain": [
       "LogisticRegression()"
      ]
     },
     "execution_count": 184,
     "metadata": {},
     "output_type": "execute_result"
    }
   ],
   "source": [
    "from sklearn.linear_model import LogisticRegression\n",
    "model_tbd = LogisticRegression()\n",
    "model_tbd.fit(X_train, y_baby_danger_train)"
   ]
  },
  {
   "cell_type": "code",
   "execution_count": 186,
   "id": "526f5a55",
   "metadata": {},
   "outputs": [],
   "source": [
    "pred_tbd = model_tbd.predict(X_test)"
   ]
  },
  {
   "cell_type": "code",
   "execution_count": 188,
   "id": "2f83212b",
   "metadata": {},
   "outputs": [],
   "source": [
    "from sklearn.metrics import accuracy_score\n",
    "accuracy_baby_danger = accuracy_score(y_baby_danger_test, pred_tbd)"
   ]
  },
  {
   "cell_type": "code",
   "execution_count": 189,
   "id": "a375b68f",
   "metadata": {},
   "outputs": [
    {
     "name": "stdout",
     "output_type": "stream",
     "text": [
      "Accuracy is : 90.31 %\n"
     ]
    }
   ],
   "source": [
    "print(\"Accuracy is :\",round(accuracy_baby_danger * 100,2),\"%\")"
   ]
  },
  {
   "cell_type": "markdown",
   "id": "91ce6923",
   "metadata": {},
   "source": [
    "### Threaten_Baby_Harm as Target"
   ]
  },
  {
   "cell_type": "code",
   "execution_count": 200,
   "id": "83147c87",
   "metadata": {},
   "outputs": [],
   "source": [
    "from sklearn.model_selection import train_test_split\n",
    "X_train, X_test, y_baby_harm_train, y_baby_harm_test = train_test_split(X, y_baby_harm, test_size = 0.19, random_state = 42)"
   ]
  },
  {
   "cell_type": "code",
   "execution_count": 201,
   "id": "a0bd369c",
   "metadata": {},
   "outputs": [
    {
     "data": {
      "text/html": [
       "<style>#sk-container-id-29 {color: black;}#sk-container-id-29 pre{padding: 0;}#sk-container-id-29 div.sk-toggleable {background-color: white;}#sk-container-id-29 label.sk-toggleable__label {cursor: pointer;display: block;width: 100%;margin-bottom: 0;padding: 0.3em;box-sizing: border-box;text-align: center;}#sk-container-id-29 label.sk-toggleable__label-arrow:before {content: \"▸\";float: left;margin-right: 0.25em;color: #696969;}#sk-container-id-29 label.sk-toggleable__label-arrow:hover:before {color: black;}#sk-container-id-29 div.sk-estimator:hover label.sk-toggleable__label-arrow:before {color: black;}#sk-container-id-29 div.sk-toggleable__content {max-height: 0;max-width: 0;overflow: hidden;text-align: left;background-color: #f0f8ff;}#sk-container-id-29 div.sk-toggleable__content pre {margin: 0.2em;color: black;border-radius: 0.25em;background-color: #f0f8ff;}#sk-container-id-29 input.sk-toggleable__control:checked~div.sk-toggleable__content {max-height: 200px;max-width: 100%;overflow: auto;}#sk-container-id-29 input.sk-toggleable__control:checked~label.sk-toggleable__label-arrow:before {content: \"▾\";}#sk-container-id-29 div.sk-estimator input.sk-toggleable__control:checked~label.sk-toggleable__label {background-color: #d4ebff;}#sk-container-id-29 div.sk-label input.sk-toggleable__control:checked~label.sk-toggleable__label {background-color: #d4ebff;}#sk-container-id-29 input.sk-hidden--visually {border: 0;clip: rect(1px 1px 1px 1px);clip: rect(1px, 1px, 1px, 1px);height: 1px;margin: -1px;overflow: hidden;padding: 0;position: absolute;width: 1px;}#sk-container-id-29 div.sk-estimator {font-family: monospace;background-color: #f0f8ff;border: 1px dotted black;border-radius: 0.25em;box-sizing: border-box;margin-bottom: 0.5em;}#sk-container-id-29 div.sk-estimator:hover {background-color: #d4ebff;}#sk-container-id-29 div.sk-parallel-item::after {content: \"\";width: 100%;border-bottom: 1px solid gray;flex-grow: 1;}#sk-container-id-29 div.sk-label:hover label.sk-toggleable__label {background-color: #d4ebff;}#sk-container-id-29 div.sk-serial::before {content: \"\";position: absolute;border-left: 1px solid gray;box-sizing: border-box;top: 0;bottom: 0;left: 50%;z-index: 0;}#sk-container-id-29 div.sk-serial {display: flex;flex-direction: column;align-items: center;background-color: white;padding-right: 0.2em;padding-left: 0.2em;position: relative;}#sk-container-id-29 div.sk-item {position: relative;z-index: 1;}#sk-container-id-29 div.sk-parallel {display: flex;align-items: stretch;justify-content: center;background-color: white;position: relative;}#sk-container-id-29 div.sk-item::before, #sk-container-id-29 div.sk-parallel-item::before {content: \"\";position: absolute;border-left: 1px solid gray;box-sizing: border-box;top: 0;bottom: 0;left: 50%;z-index: -1;}#sk-container-id-29 div.sk-parallel-item {display: flex;flex-direction: column;z-index: 1;position: relative;background-color: white;}#sk-container-id-29 div.sk-parallel-item:first-child::after {align-self: flex-end;width: 50%;}#sk-container-id-29 div.sk-parallel-item:last-child::after {align-self: flex-start;width: 50%;}#sk-container-id-29 div.sk-parallel-item:only-child::after {width: 0;}#sk-container-id-29 div.sk-dashed-wrapped {border: 1px dashed gray;margin: 0 0.4em 0.5em 0.4em;box-sizing: border-box;padding-bottom: 0.4em;background-color: white;}#sk-container-id-29 div.sk-label label {font-family: monospace;font-weight: bold;display: inline-block;line-height: 1.2em;}#sk-container-id-29 div.sk-label-container {text-align: center;}#sk-container-id-29 div.sk-container {/* jupyter's `normalize.less` sets `[hidden] { display: none; }` but bootstrap.min.css set `[hidden] { display: none !important; }` so we also need the `!important` here to be able to override the default hidden behavior on the sphinx rendered scikit-learn.org. See: https://github.com/scikit-learn/scikit-learn/issues/21755 */display: inline-block !important;position: relative;}#sk-container-id-29 div.sk-text-repr-fallback {display: none;}</style><div id=\"sk-container-id-29\" class=\"sk-top-container\"><div class=\"sk-text-repr-fallback\"><pre>LogisticRegression()</pre><b>In a Jupyter environment, please rerun this cell to show the HTML representation or trust the notebook. <br />On GitHub, the HTML representation is unable to render, please try loading this page with nbviewer.org.</b></div><div class=\"sk-container\" hidden><div class=\"sk-item\"><div class=\"sk-estimator sk-toggleable\"><input class=\"sk-toggleable__control sk-hidden--visually\" id=\"sk-estimator-id-29\" type=\"checkbox\" checked><label for=\"sk-estimator-id-29\" class=\"sk-toggleable__label sk-toggleable__label-arrow\">LogisticRegression</label><div class=\"sk-toggleable__content\"><pre>LogisticRegression()</pre></div></div></div></div></div>"
      ],
      "text/plain": [
       "LogisticRegression()"
      ]
     },
     "execution_count": 201,
     "metadata": {},
     "output_type": "execute_result"
    }
   ],
   "source": [
    "from sklearn.linear_model import LogisticRegression\n",
    "model_tbh = LogisticRegression()\n",
    "model_tbh.fit(X_train, y_baby_harm_train)"
   ]
  },
  {
   "cell_type": "code",
   "execution_count": 202,
   "id": "1ea43e40",
   "metadata": {},
   "outputs": [],
   "source": [
    "pred_tbh = model_tbh.predict(X_test)"
   ]
  },
  {
   "cell_type": "code",
   "execution_count": 203,
   "id": "1904c62c",
   "metadata": {},
   "outputs": [],
   "source": [
    "from sklearn.metrics import accuracy_score\n",
    "accuracy_baby_harm = accuracy_score(y_baby_harm_test, pred_tbh)"
   ]
  },
  {
   "cell_type": "code",
   "execution_count": 204,
   "id": "f0159357",
   "metadata": {},
   "outputs": [
    {
     "name": "stdout",
     "output_type": "stream",
     "text": [
      "Accuracy is : 91.84 %\n"
     ]
    }
   ],
   "source": [
    "print(\"Accuracy is :\",round(accuracy_baby_harm * 100,2),\"%\")"
   ]
  }
 ],
 "metadata": {
  "kernelspec": {
   "display_name": "Python 3 (ipykernel)",
   "language": "python",
   "name": "python3"
  },
  "language_info": {
   "codemirror_mode": {
    "name": "ipython",
    "version": 3
   },
   "file_extension": ".py",
   "mimetype": "text/x-python",
   "name": "python",
   "nbconvert_exporter": "python",
   "pygments_lexer": "ipython3",
   "version": "3.11.4"
  }
 },
 "nbformat": 4,
 "nbformat_minor": 5
}
